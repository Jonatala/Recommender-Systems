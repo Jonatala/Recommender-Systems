{
  "nbformat": 4,
  "nbformat_minor": 0,
  "metadata": {
    "colab": {
      "name": "Hybrid_Recommender_System_Surprise_Library.ipynb",
      "provenance": [],
      "collapsed_sections": [],
      "mount_file_id": "1_N96YYJdPralV26ts2JGDIxwQEAaj6-F",
      "authorship_tag": "ABX9TyO9C8diDeqpwfT+959fb+HW",
      "include_colab_link": true
    },
    "kernelspec": {
      "name": "python3",
      "display_name": "Python 3"
    },
    "language_info": {
      "name": "python"
    },
    "accelerator": "GPU"
  },
  "cells": [
    {
      "cell_type": "markdown",
      "metadata": {
        "id": "view-in-github",
        "colab_type": "text"
      },
      "source": [
        "<a href=\"https://colab.research.google.com/github/Jonatala/Recommender-Systems/blob/main/Hybrid_Recommender_System_Surprise_Library.ipynb\" target=\"_parent\"><img src=\"https://colab.research.google.com/assets/colab-badge.svg\" alt=\"Open In Colab\"/></a>"
      ]
    },
    {
      "cell_type": "code",
      "source": [
        "!pip install surprise"
      ],
      "metadata": {
        "colab": {
          "base_uri": "https://localhost:8080/"
        },
        "id": "pp3it31FXSxT",
        "outputId": "a122d897-499a-4fa9-c7a4-8c750df53532"
      },
      "execution_count": 1,
      "outputs": [
        {
          "output_type": "stream",
          "name": "stdout",
          "text": [
            "Collecting surprise\n",
            "  Downloading surprise-0.1-py2.py3-none-any.whl (1.8 kB)\n",
            "Collecting scikit-surprise\n",
            "  Downloading scikit-surprise-1.1.1.tar.gz (11.8 MB)\n",
            "\u001b[K     |████████████████████████████████| 11.8 MB 9.6 MB/s \n",
            "\u001b[?25hRequirement already satisfied: joblib>=0.11 in /usr/local/lib/python3.7/dist-packages (from scikit-surprise->surprise) (1.1.0)\n",
            "Requirement already satisfied: numpy>=1.11.2 in /usr/local/lib/python3.7/dist-packages (from scikit-surprise->surprise) (1.21.6)\n",
            "Requirement already satisfied: scipy>=1.0.0 in /usr/local/lib/python3.7/dist-packages (from scikit-surprise->surprise) (1.4.1)\n",
            "Requirement already satisfied: six>=1.10.0 in /usr/local/lib/python3.7/dist-packages (from scikit-surprise->surprise) (1.15.0)\n",
            "Building wheels for collected packages: scikit-surprise\n",
            "  Building wheel for scikit-surprise (setup.py) ... \u001b[?25l\u001b[?25hdone\n",
            "  Created wheel for scikit-surprise: filename=scikit_surprise-1.1.1-cp37-cp37m-linux_x86_64.whl size=1630191 sha256=df17b6bf56f0e18ffd2c4cc368a1d7d1ea4ecb291b3400aa04ce6cff28c8aece\n",
            "  Stored in directory: /root/.cache/pip/wheels/76/44/74/b498c42be47b2406bd27994e16c5188e337c657025ab400c1c\n",
            "Successfully built scikit-surprise\n",
            "Installing collected packages: scikit-surprise, surprise\n",
            "Successfully installed scikit-surprise-1.1.1 surprise-0.1\n"
          ]
        }
      ]
    },
    {
      "cell_type": "code",
      "execution_count": 2,
      "metadata": {
        "id": "AR48HmcgWWJW"
      },
      "outputs": [],
      "source": [
        "import surprise\n",
        "import numpy as np \n",
        "import pandas as pd\n",
        "from surprise import accuracy\n",
        "from sklearn.model_selection import train_test_split\n",
        "import matplotlib.pyplot as plt\n",
        "import os\n"
      ]
    },
    {
      "cell_type": "code",
      "source": [
        "!unzip /content/drive/MyDrive/goodbooks-10k.zip"
      ],
      "metadata": {
        "colab": {
          "base_uri": "https://localhost:8080/"
        },
        "id": "GA4QvXaXXGQk",
        "outputId": "24b04c0b-96bd-4e43-b435-ae6652dc041d"
      },
      "execution_count": 3,
      "outputs": [
        {
          "output_type": "stream",
          "name": "stdout",
          "text": [
            "Archive:  /content/drive/MyDrive/goodbooks-10k.zip\n",
            "  inflating: book_tags.csv           \n",
            "  inflating: books.csv               \n",
            "  inflating: ratings.csv             \n",
            "  inflating: sample_book.xml         \n",
            "  inflating: tags.csv                \n",
            "  inflating: to_read.csv             \n"
          ]
        }
      ]
    },
    {
      "cell_type": "code",
      "source": [
        ""
      ],
      "metadata": {
        "id": "DA0z-JmQh_Fv"
      },
      "execution_count": null,
      "outputs": []
    },
    {
      "cell_type": "code",
      "source": [
        "books = pd.read_csv('books.csv')\n",
        "\n",
        "book_tags = pd.read_csv('tags.csv')\n",
        "\n",
        "ratings = pd.read_csv('ratings.csv')\n",
        "\n",
        "tags_data = pd.read_csv('book_tags.csv')"
      ],
      "metadata": {
        "id": "6kxjd6Blh-2f"
      },
      "execution_count": 4,
      "outputs": []
    },
    {
      "cell_type": "code",
      "source": [
        ""
      ],
      "metadata": {
        "id": "5cSBoZ1bh-un"
      },
      "execution_count": null,
      "outputs": []
    },
    {
      "cell_type": "code",
      "source": [
        "ratings.shape"
      ],
      "metadata": {
        "colab": {
          "base_uri": "https://localhost:8080/"
        },
        "id": "RNlTvtv5h-mS",
        "outputId": "9bf3a382-8e91-4282-9752-285078b159bf"
      },
      "execution_count": 7,
      "outputs": [
        {
          "output_type": "execute_result",
          "data": {
            "text/plain": [
              "(981756, 3)"
            ]
          },
          "metadata": {},
          "execution_count": 7
        }
      ]
    },
    {
      "cell_type": "code",
      "source": [
        ""
      ],
      "metadata": {
        "id": "TbPLsj9minbl"
      },
      "execution_count": null,
      "outputs": []
    },
    {
      "cell_type": "code",
      "source": [
        "books.head()"
      ],
      "metadata": {
        "colab": {
          "base_uri": "https://localhost:8080/",
          "height": 421
        },
        "id": "4B-M3i2einSd",
        "outputId": "b3f99b8e-6cf8-4a5c-d6fc-e48263729af8"
      },
      "execution_count": 5,
      "outputs": [
        {
          "output_type": "execute_result",
          "data": {
            "text/plain": [
              "   id  book_id  best_book_id  work_id  books_count       isbn        isbn13  \\\n",
              "0   1  2767052       2767052  2792775          272  439023483  9.780439e+12   \n",
              "1   2        3             3  4640799          491  439554934  9.780440e+12   \n",
              "2   3    41865         41865  3212258          226  316015849  9.780316e+12   \n",
              "3   4     2657          2657  3275794          487   61120081  9.780061e+12   \n",
              "4   5     4671          4671   245494         1356  743273567  9.780743e+12   \n",
              "\n",
              "                       authors  original_publication_year  \\\n",
              "0              Suzanne Collins                     2008.0   \n",
              "1  J.K. Rowling, Mary GrandPré                     1997.0   \n",
              "2              Stephenie Meyer                     2005.0   \n",
              "3                   Harper Lee                     1960.0   \n",
              "4          F. Scott Fitzgerald                     1925.0   \n",
              "\n",
              "                             original_title  ... ratings_count  \\\n",
              "0                          The Hunger Games  ...       4780653   \n",
              "1  Harry Potter and the Philosopher's Stone  ...       4602479   \n",
              "2                                  Twilight  ...       3866839   \n",
              "3                     To Kill a Mockingbird  ...       3198671   \n",
              "4                          The Great Gatsby  ...       2683664   \n",
              "\n",
              "  work_ratings_count  work_text_reviews_count  ratings_1  ratings_2  \\\n",
              "0            4942365                   155254      66715     127936   \n",
              "1            4800065                    75867      75504     101676   \n",
              "2            3916824                    95009     456191     436802   \n",
              "3            3340896                    72586      60427     117415   \n",
              "4            2773745                    51992      86236     197621   \n",
              "\n",
              "   ratings_3  ratings_4  ratings_5  \\\n",
              "0     560092    1481305    2706317   \n",
              "1     455024    1156318    3011543   \n",
              "2     793319     875073    1355439   \n",
              "3     446835    1001952    1714267   \n",
              "4     606158     936012     947718   \n",
              "\n",
              "                                           image_url  \\\n",
              "0  https://images.gr-assets.com/books/1447303603m...   \n",
              "1  https://images.gr-assets.com/books/1474154022m...   \n",
              "2  https://images.gr-assets.com/books/1361039443m...   \n",
              "3  https://images.gr-assets.com/books/1361975680m...   \n",
              "4  https://images.gr-assets.com/books/1490528560m...   \n",
              "\n",
              "                                     small_image_url  \n",
              "0  https://images.gr-assets.com/books/1447303603s...  \n",
              "1  https://images.gr-assets.com/books/1474154022s...  \n",
              "2  https://images.gr-assets.com/books/1361039443s...  \n",
              "3  https://images.gr-assets.com/books/1361975680s...  \n",
              "4  https://images.gr-assets.com/books/1490528560s...  \n",
              "\n",
              "[5 rows x 23 columns]"
            ],
            "text/html": [
              "\n",
              "  <div id=\"df-097884b5-3ea8-4d6e-bf47-111bba129393\">\n",
              "    <div class=\"colab-df-container\">\n",
              "      <div>\n",
              "<style scoped>\n",
              "    .dataframe tbody tr th:only-of-type {\n",
              "        vertical-align: middle;\n",
              "    }\n",
              "\n",
              "    .dataframe tbody tr th {\n",
              "        vertical-align: top;\n",
              "    }\n",
              "\n",
              "    .dataframe thead th {\n",
              "        text-align: right;\n",
              "    }\n",
              "</style>\n",
              "<table border=\"1\" class=\"dataframe\">\n",
              "  <thead>\n",
              "    <tr style=\"text-align: right;\">\n",
              "      <th></th>\n",
              "      <th>id</th>\n",
              "      <th>book_id</th>\n",
              "      <th>best_book_id</th>\n",
              "      <th>work_id</th>\n",
              "      <th>books_count</th>\n",
              "      <th>isbn</th>\n",
              "      <th>isbn13</th>\n",
              "      <th>authors</th>\n",
              "      <th>original_publication_year</th>\n",
              "      <th>original_title</th>\n",
              "      <th>...</th>\n",
              "      <th>ratings_count</th>\n",
              "      <th>work_ratings_count</th>\n",
              "      <th>work_text_reviews_count</th>\n",
              "      <th>ratings_1</th>\n",
              "      <th>ratings_2</th>\n",
              "      <th>ratings_3</th>\n",
              "      <th>ratings_4</th>\n",
              "      <th>ratings_5</th>\n",
              "      <th>image_url</th>\n",
              "      <th>small_image_url</th>\n",
              "    </tr>\n",
              "  </thead>\n",
              "  <tbody>\n",
              "    <tr>\n",
              "      <th>0</th>\n",
              "      <td>1</td>\n",
              "      <td>2767052</td>\n",
              "      <td>2767052</td>\n",
              "      <td>2792775</td>\n",
              "      <td>272</td>\n",
              "      <td>439023483</td>\n",
              "      <td>9.780439e+12</td>\n",
              "      <td>Suzanne Collins</td>\n",
              "      <td>2008.0</td>\n",
              "      <td>The Hunger Games</td>\n",
              "      <td>...</td>\n",
              "      <td>4780653</td>\n",
              "      <td>4942365</td>\n",
              "      <td>155254</td>\n",
              "      <td>66715</td>\n",
              "      <td>127936</td>\n",
              "      <td>560092</td>\n",
              "      <td>1481305</td>\n",
              "      <td>2706317</td>\n",
              "      <td>https://images.gr-assets.com/books/1447303603m...</td>\n",
              "      <td>https://images.gr-assets.com/books/1447303603s...</td>\n",
              "    </tr>\n",
              "    <tr>\n",
              "      <th>1</th>\n",
              "      <td>2</td>\n",
              "      <td>3</td>\n",
              "      <td>3</td>\n",
              "      <td>4640799</td>\n",
              "      <td>491</td>\n",
              "      <td>439554934</td>\n",
              "      <td>9.780440e+12</td>\n",
              "      <td>J.K. Rowling, Mary GrandPré</td>\n",
              "      <td>1997.0</td>\n",
              "      <td>Harry Potter and the Philosopher's Stone</td>\n",
              "      <td>...</td>\n",
              "      <td>4602479</td>\n",
              "      <td>4800065</td>\n",
              "      <td>75867</td>\n",
              "      <td>75504</td>\n",
              "      <td>101676</td>\n",
              "      <td>455024</td>\n",
              "      <td>1156318</td>\n",
              "      <td>3011543</td>\n",
              "      <td>https://images.gr-assets.com/books/1474154022m...</td>\n",
              "      <td>https://images.gr-assets.com/books/1474154022s...</td>\n",
              "    </tr>\n",
              "    <tr>\n",
              "      <th>2</th>\n",
              "      <td>3</td>\n",
              "      <td>41865</td>\n",
              "      <td>41865</td>\n",
              "      <td>3212258</td>\n",
              "      <td>226</td>\n",
              "      <td>316015849</td>\n",
              "      <td>9.780316e+12</td>\n",
              "      <td>Stephenie Meyer</td>\n",
              "      <td>2005.0</td>\n",
              "      <td>Twilight</td>\n",
              "      <td>...</td>\n",
              "      <td>3866839</td>\n",
              "      <td>3916824</td>\n",
              "      <td>95009</td>\n",
              "      <td>456191</td>\n",
              "      <td>436802</td>\n",
              "      <td>793319</td>\n",
              "      <td>875073</td>\n",
              "      <td>1355439</td>\n",
              "      <td>https://images.gr-assets.com/books/1361039443m...</td>\n",
              "      <td>https://images.gr-assets.com/books/1361039443s...</td>\n",
              "    </tr>\n",
              "    <tr>\n",
              "      <th>3</th>\n",
              "      <td>4</td>\n",
              "      <td>2657</td>\n",
              "      <td>2657</td>\n",
              "      <td>3275794</td>\n",
              "      <td>487</td>\n",
              "      <td>61120081</td>\n",
              "      <td>9.780061e+12</td>\n",
              "      <td>Harper Lee</td>\n",
              "      <td>1960.0</td>\n",
              "      <td>To Kill a Mockingbird</td>\n",
              "      <td>...</td>\n",
              "      <td>3198671</td>\n",
              "      <td>3340896</td>\n",
              "      <td>72586</td>\n",
              "      <td>60427</td>\n",
              "      <td>117415</td>\n",
              "      <td>446835</td>\n",
              "      <td>1001952</td>\n",
              "      <td>1714267</td>\n",
              "      <td>https://images.gr-assets.com/books/1361975680m...</td>\n",
              "      <td>https://images.gr-assets.com/books/1361975680s...</td>\n",
              "    </tr>\n",
              "    <tr>\n",
              "      <th>4</th>\n",
              "      <td>5</td>\n",
              "      <td>4671</td>\n",
              "      <td>4671</td>\n",
              "      <td>245494</td>\n",
              "      <td>1356</td>\n",
              "      <td>743273567</td>\n",
              "      <td>9.780743e+12</td>\n",
              "      <td>F. Scott Fitzgerald</td>\n",
              "      <td>1925.0</td>\n",
              "      <td>The Great Gatsby</td>\n",
              "      <td>...</td>\n",
              "      <td>2683664</td>\n",
              "      <td>2773745</td>\n",
              "      <td>51992</td>\n",
              "      <td>86236</td>\n",
              "      <td>197621</td>\n",
              "      <td>606158</td>\n",
              "      <td>936012</td>\n",
              "      <td>947718</td>\n",
              "      <td>https://images.gr-assets.com/books/1490528560m...</td>\n",
              "      <td>https://images.gr-assets.com/books/1490528560s...</td>\n",
              "    </tr>\n",
              "  </tbody>\n",
              "</table>\n",
              "<p>5 rows × 23 columns</p>\n",
              "</div>\n",
              "      <button class=\"colab-df-convert\" onclick=\"convertToInteractive('df-097884b5-3ea8-4d6e-bf47-111bba129393')\"\n",
              "              title=\"Convert this dataframe to an interactive table.\"\n",
              "              style=\"display:none;\">\n",
              "        \n",
              "  <svg xmlns=\"http://www.w3.org/2000/svg\" height=\"24px\"viewBox=\"0 0 24 24\"\n",
              "       width=\"24px\">\n",
              "    <path d=\"M0 0h24v24H0V0z\" fill=\"none\"/>\n",
              "    <path d=\"M18.56 5.44l.94 2.06.94-2.06 2.06-.94-2.06-.94-.94-2.06-.94 2.06-2.06.94zm-11 1L8.5 8.5l.94-2.06 2.06-.94-2.06-.94L8.5 2.5l-.94 2.06-2.06.94zm10 10l.94 2.06.94-2.06 2.06-.94-2.06-.94-.94-2.06-.94 2.06-2.06.94z\"/><path d=\"M17.41 7.96l-1.37-1.37c-.4-.4-.92-.59-1.43-.59-.52 0-1.04.2-1.43.59L10.3 9.45l-7.72 7.72c-.78.78-.78 2.05 0 2.83L4 21.41c.39.39.9.59 1.41.59.51 0 1.02-.2 1.41-.59l7.78-7.78 2.81-2.81c.8-.78.8-2.07 0-2.86zM5.41 20L4 18.59l7.72-7.72 1.47 1.35L5.41 20z\"/>\n",
              "  </svg>\n",
              "      </button>\n",
              "      \n",
              "  <style>\n",
              "    .colab-df-container {\n",
              "      display:flex;\n",
              "      flex-wrap:wrap;\n",
              "      gap: 12px;\n",
              "    }\n",
              "\n",
              "    .colab-df-convert {\n",
              "      background-color: #E8F0FE;\n",
              "      border: none;\n",
              "      border-radius: 50%;\n",
              "      cursor: pointer;\n",
              "      display: none;\n",
              "      fill: #1967D2;\n",
              "      height: 32px;\n",
              "      padding: 0 0 0 0;\n",
              "      width: 32px;\n",
              "    }\n",
              "\n",
              "    .colab-df-convert:hover {\n",
              "      background-color: #E2EBFA;\n",
              "      box-shadow: 0px 1px 2px rgba(60, 64, 67, 0.3), 0px 1px 3px 1px rgba(60, 64, 67, 0.15);\n",
              "      fill: #174EA6;\n",
              "    }\n",
              "\n",
              "    [theme=dark] .colab-df-convert {\n",
              "      background-color: #3B4455;\n",
              "      fill: #D2E3FC;\n",
              "    }\n",
              "\n",
              "    [theme=dark] .colab-df-convert:hover {\n",
              "      background-color: #434B5C;\n",
              "      box-shadow: 0px 1px 3px 1px rgba(0, 0, 0, 0.15);\n",
              "      filter: drop-shadow(0px 1px 2px rgba(0, 0, 0, 0.3));\n",
              "      fill: #FFFFFF;\n",
              "    }\n",
              "  </style>\n",
              "\n",
              "      <script>\n",
              "        const buttonEl =\n",
              "          document.querySelector('#df-097884b5-3ea8-4d6e-bf47-111bba129393 button.colab-df-convert');\n",
              "        buttonEl.style.display =\n",
              "          google.colab.kernel.accessAllowed ? 'block' : 'none';\n",
              "\n",
              "        async function convertToInteractive(key) {\n",
              "          const element = document.querySelector('#df-097884b5-3ea8-4d6e-bf47-111bba129393');\n",
              "          const dataTable =\n",
              "            await google.colab.kernel.invokeFunction('convertToInteractive',\n",
              "                                                     [key], {});\n",
              "          if (!dataTable) return;\n",
              "\n",
              "          const docLinkHtml = 'Like what you see? Visit the ' +\n",
              "            '<a target=\"_blank\" href=https://colab.research.google.com/notebooks/data_table.ipynb>data table notebook</a>'\n",
              "            + ' to learn more about interactive tables.';\n",
              "          element.innerHTML = '';\n",
              "          dataTable['output_type'] = 'display_data';\n",
              "          await google.colab.output.renderOutput(dataTable, element);\n",
              "          const docLink = document.createElement('div');\n",
              "          docLink.innerHTML = docLinkHtml;\n",
              "          element.appendChild(docLink);\n",
              "        }\n",
              "      </script>\n",
              "    </div>\n",
              "  </div>\n",
              "  "
            ]
          },
          "metadata": {},
          "execution_count": 5
        }
      ]
    },
    {
      "cell_type": "code",
      "source": [
        ""
      ],
      "metadata": {
        "id": "zTMgGPnOiYYn"
      },
      "execution_count": null,
      "outputs": []
    },
    {
      "cell_type": "code",
      "source": [
        "ratings.head()"
      ],
      "metadata": {
        "colab": {
          "base_uri": "https://localhost:8080/",
          "height": 206
        },
        "id": "nPo3LXIJi-a7",
        "outputId": "a466a3db-f8e6-4c3e-a5c7-61a197b2310a"
      },
      "execution_count": 6,
      "outputs": [
        {
          "output_type": "execute_result",
          "data": {
            "text/plain": [
              "   book_id  user_id  rating\n",
              "0        1      314       5\n",
              "1        1      439       3\n",
              "2        1      588       5\n",
              "3        1     1169       4\n",
              "4        1     1185       4"
            ],
            "text/html": [
              "\n",
              "  <div id=\"df-a4d739c6-36da-4311-9694-fb696610aabc\">\n",
              "    <div class=\"colab-df-container\">\n",
              "      <div>\n",
              "<style scoped>\n",
              "    .dataframe tbody tr th:only-of-type {\n",
              "        vertical-align: middle;\n",
              "    }\n",
              "\n",
              "    .dataframe tbody tr th {\n",
              "        vertical-align: top;\n",
              "    }\n",
              "\n",
              "    .dataframe thead th {\n",
              "        text-align: right;\n",
              "    }\n",
              "</style>\n",
              "<table border=\"1\" class=\"dataframe\">\n",
              "  <thead>\n",
              "    <tr style=\"text-align: right;\">\n",
              "      <th></th>\n",
              "      <th>book_id</th>\n",
              "      <th>user_id</th>\n",
              "      <th>rating</th>\n",
              "    </tr>\n",
              "  </thead>\n",
              "  <tbody>\n",
              "    <tr>\n",
              "      <th>0</th>\n",
              "      <td>1</td>\n",
              "      <td>314</td>\n",
              "      <td>5</td>\n",
              "    </tr>\n",
              "    <tr>\n",
              "      <th>1</th>\n",
              "      <td>1</td>\n",
              "      <td>439</td>\n",
              "      <td>3</td>\n",
              "    </tr>\n",
              "    <tr>\n",
              "      <th>2</th>\n",
              "      <td>1</td>\n",
              "      <td>588</td>\n",
              "      <td>5</td>\n",
              "    </tr>\n",
              "    <tr>\n",
              "      <th>3</th>\n",
              "      <td>1</td>\n",
              "      <td>1169</td>\n",
              "      <td>4</td>\n",
              "    </tr>\n",
              "    <tr>\n",
              "      <th>4</th>\n",
              "      <td>1</td>\n",
              "      <td>1185</td>\n",
              "      <td>4</td>\n",
              "    </tr>\n",
              "  </tbody>\n",
              "</table>\n",
              "</div>\n",
              "      <button class=\"colab-df-convert\" onclick=\"convertToInteractive('df-a4d739c6-36da-4311-9694-fb696610aabc')\"\n",
              "              title=\"Convert this dataframe to an interactive table.\"\n",
              "              style=\"display:none;\">\n",
              "        \n",
              "  <svg xmlns=\"http://www.w3.org/2000/svg\" height=\"24px\"viewBox=\"0 0 24 24\"\n",
              "       width=\"24px\">\n",
              "    <path d=\"M0 0h24v24H0V0z\" fill=\"none\"/>\n",
              "    <path d=\"M18.56 5.44l.94 2.06.94-2.06 2.06-.94-2.06-.94-.94-2.06-.94 2.06-2.06.94zm-11 1L8.5 8.5l.94-2.06 2.06-.94-2.06-.94L8.5 2.5l-.94 2.06-2.06.94zm10 10l.94 2.06.94-2.06 2.06-.94-2.06-.94-.94-2.06-.94 2.06-2.06.94z\"/><path d=\"M17.41 7.96l-1.37-1.37c-.4-.4-.92-.59-1.43-.59-.52 0-1.04.2-1.43.59L10.3 9.45l-7.72 7.72c-.78.78-.78 2.05 0 2.83L4 21.41c.39.39.9.59 1.41.59.51 0 1.02-.2 1.41-.59l7.78-7.78 2.81-2.81c.8-.78.8-2.07 0-2.86zM5.41 20L4 18.59l7.72-7.72 1.47 1.35L5.41 20z\"/>\n",
              "  </svg>\n",
              "      </button>\n",
              "      \n",
              "  <style>\n",
              "    .colab-df-container {\n",
              "      display:flex;\n",
              "      flex-wrap:wrap;\n",
              "      gap: 12px;\n",
              "    }\n",
              "\n",
              "    .colab-df-convert {\n",
              "      background-color: #E8F0FE;\n",
              "      border: none;\n",
              "      border-radius: 50%;\n",
              "      cursor: pointer;\n",
              "      display: none;\n",
              "      fill: #1967D2;\n",
              "      height: 32px;\n",
              "      padding: 0 0 0 0;\n",
              "      width: 32px;\n",
              "    }\n",
              "\n",
              "    .colab-df-convert:hover {\n",
              "      background-color: #E2EBFA;\n",
              "      box-shadow: 0px 1px 2px rgba(60, 64, 67, 0.3), 0px 1px 3px 1px rgba(60, 64, 67, 0.15);\n",
              "      fill: #174EA6;\n",
              "    }\n",
              "\n",
              "    [theme=dark] .colab-df-convert {\n",
              "      background-color: #3B4455;\n",
              "      fill: #D2E3FC;\n",
              "    }\n",
              "\n",
              "    [theme=dark] .colab-df-convert:hover {\n",
              "      background-color: #434B5C;\n",
              "      box-shadow: 0px 1px 3px 1px rgba(0, 0, 0, 0.15);\n",
              "      filter: drop-shadow(0px 1px 2px rgba(0, 0, 0, 0.3));\n",
              "      fill: #FFFFFF;\n",
              "    }\n",
              "  </style>\n",
              "\n",
              "      <script>\n",
              "        const buttonEl =\n",
              "          document.querySelector('#df-a4d739c6-36da-4311-9694-fb696610aabc button.colab-df-convert');\n",
              "        buttonEl.style.display =\n",
              "          google.colab.kernel.accessAllowed ? 'block' : 'none';\n",
              "\n",
              "        async function convertToInteractive(key) {\n",
              "          const element = document.querySelector('#df-a4d739c6-36da-4311-9694-fb696610aabc');\n",
              "          const dataTable =\n",
              "            await google.colab.kernel.invokeFunction('convertToInteractive',\n",
              "                                                     [key], {});\n",
              "          if (!dataTable) return;\n",
              "\n",
              "          const docLinkHtml = 'Like what you see? Visit the ' +\n",
              "            '<a target=\"_blank\" href=https://colab.research.google.com/notebooks/data_table.ipynb>data table notebook</a>'\n",
              "            + ' to learn more about interactive tables.';\n",
              "          element.innerHTML = '';\n",
              "          dataTable['output_type'] = 'display_data';\n",
              "          await google.colab.output.renderOutput(dataTable, element);\n",
              "          const docLink = document.createElement('div');\n",
              "          docLink.innerHTML = docLinkHtml;\n",
              "          element.appendChild(docLink);\n",
              "        }\n",
              "      </script>\n",
              "    </div>\n",
              "  </div>\n",
              "  "
            ]
          },
          "metadata": {},
          "execution_count": 6
        }
      ]
    },
    {
      "cell_type": "code",
      "source": [
        ""
      ],
      "metadata": {
        "id": "YQf1zZlKi-RQ"
      },
      "execution_count": null,
      "outputs": []
    },
    {
      "cell_type": "code",
      "source": [
        "plt.figure(figsize=(15,8))\n",
        "plt.scatter(x=books['average_rating'], y=books['ratings_count'])"
      ],
      "metadata": {
        "colab": {
          "base_uri": "https://localhost:8080/",
          "height": 511
        },
        "id": "Zq133afCiYCL",
        "outputId": "74c8617a-1579-4f34-cdfe-fc68887af497"
      },
      "execution_count": 7,
      "outputs": [
        {
          "output_type": "execute_result",
          "data": {
            "text/plain": [
              "<matplotlib.collections.PathCollection at 0x7f977ecae910>"
            ]
          },
          "metadata": {},
          "execution_count": 7
        },
        {
          "output_type": "display_data",
          "data": {
            "text/plain": [
              "<Figure size 1080x576 with 1 Axes>"
            ],
            "image/png": "[encoded data removed]"
          },
          "metadata": {
            "needs_background": "light"
          }
        }
      ]
    },
    {
      "cell_type": "code",
      "source": [
        ""
      ],
      "metadata": {
        "id": "Zi0dxqVe6qBj"
      },
      "execution_count": null,
      "outputs": []
    },
    {
      "cell_type": "code",
      "source": [
        "plt.figure(figsize=(15,8))\n",
        "plt.scatter(x=books['book_id'], y=books['ratings_count'])"
      ],
      "metadata": {
        "colab": {
          "base_uri": "https://localhost:8080/",
          "height": 523
        },
        "id": "PbqyXsltiVmp",
        "outputId": "efad802b-cee9-4cc8-935a-73d76dc3291a"
      },
      "execution_count": 8,
      "outputs": [
        {
          "output_type": "execute_result",
          "data": {
            "text/plain": [
              "<matplotlib.collections.PathCollection at 0x7f977e792e50>"
            ]
          },
          "metadata": {},
          "execution_count": 8
        },
        {
          "output_type": "display_data",
          "data": {
            "text/plain": [
              "<Figure size 1080x576 with 1 Axes>"
            ],
            "image/png": "[encoded data removed]"
          },
          "metadata": {
            "needs_background": "light"
          }
        }
      ]
    },
    {
      "cell_type": "code",
      "source": [
        ""
      ],
      "metadata": {
        "id": "Am9996zKlxW7"
      },
      "execution_count": null,
      "outputs": []
    },
    {
      "cell_type": "code",
      "source": [
        "import matplotlib.pyplot as plt\n",
        "plt.figure(figsize=(12,6))\n",
        "plt.title(\"Distribution of Average Ratings\")\n",
        "books[\"average_rating\"].hist()\n",
        "display()"
      ],
      "metadata": {
        "colab": {
          "base_uri": "https://localhost:8080/",
          "height": 390
        },
        "id": "EAL3Sz2AiVdr",
        "outputId": "0aa214fb-b73e-4cd2-cfb9-0672bd057287"
      },
      "execution_count": 9,
      "outputs": [
        {
          "output_type": "display_data",
          "data": {
            "text/plain": [
              "<Figure size 864x432 with 1 Axes>"
            ],
            "image/png": "[encoded data removed]"
          },
          "metadata": {
            "needs_background": "light"
          }
        }
      ]
    },
    {
      "cell_type": "code",
      "source": [
        ""
      ],
      "metadata": {
        "id": "TuwjRyD5ivJI"
      },
      "execution_count": null,
      "outputs": []
    },
    {
      "cell_type": "code",
      "source": [
        "ratings.drop_duplicates(subset =[\"user_id\",\"book_id\"], keep = False, inplace = True)"
      ],
      "metadata": {
        "id": "YwysnLGpiu_x"
      },
      "execution_count": 10,
      "outputs": []
    },
    {
      "cell_type": "code",
      "source": [
        "ratings.shape"
      ],
      "metadata": {
        "colab": {
          "base_uri": "https://localhost:8080/"
        },
        "id": "IXenejPnjGzX",
        "outputId": "0a6c829c-1408-4364-a933-25d6fbb5bd3e"
      },
      "execution_count": 11,
      "outputs": [
        {
          "output_type": "execute_result",
          "data": {
            "text/plain": [
              "(977269, 3)"
            ]
          },
          "metadata": {},
          "execution_count": 11
        }
      ]
    },
    {
      "cell_type": "code",
      "source": [
        ""
      ],
      "metadata": {
        "id": "hvw5TroJjGU9"
      },
      "execution_count": null,
      "outputs": []
    },
    {
      "cell_type": "code",
      "source": [
        "raw=pd.read_csv('/content/ratings.csv')"
      ],
      "metadata": {
        "id": "d2D5DyzeXI6o"
      },
      "execution_count": 12,
      "outputs": []
    },
    {
      "cell_type": "code",
      "source": [
        "print('Total number of',raw.shape[0], 'ratings')\n",
        "print('Unique users in file is:', len(raw.user_id.unique()))\n",
        "print('Unique books in file is:', len(raw.book_id.unique()))\n",
        "print('Maximum rating is: %d'%raw.rating.max(),\"The minimum rating is: %d\"%raw.rating.min())\n",
        "raw.head()"
      ],
      "metadata": {
        "colab": {
          "base_uri": "https://localhost:8080/",
          "height": 276
        },
        "id": "hPAzQ66oYgaq",
        "outputId": "09814c99-04ab-40f5-d023-b249c6eef3ec"
      },
      "execution_count": 15,
      "outputs": [
        {
          "output_type": "stream",
          "name": "stdout",
          "text": [
            "Total number of 981756 ratings\n",
            "Unique users in file is: 53424\n",
            "Unique books in file is: 10000\n",
            "Maximum rating is: 5 The minimum rating is: 1\n"
          ]
        },
        {
          "output_type": "execute_result",
          "data": {
            "text/plain": [
              "   book_id  user_id  rating\n",
              "0        1      314       5\n",
              "1        1      439       3\n",
              "2        1      588       5\n",
              "3        1     1169       4\n",
              "4        1     1185       4"
            ],
            "text/html": [
              "\n",
              "  <div id=\"df-b899f074-0dfe-47f5-92e8-98fe94baaf0e\">\n",
              "    <div class=\"colab-df-container\">\n",
              "      <div>\n",
              "<style scoped>\n",
              "    .dataframe tbody tr th:only-of-type {\n",
              "        vertical-align: middle;\n",
              "    }\n",
              "\n",
              "    .dataframe tbody tr th {\n",
              "        vertical-align: top;\n",
              "    }\n",
              "\n",
              "    .dataframe thead th {\n",
              "        text-align: right;\n",
              "    }\n",
              "</style>\n",
              "<table border=\"1\" class=\"dataframe\">\n",
              "  <thead>\n",
              "    <tr style=\"text-align: right;\">\n",
              "      <th></th>\n",
              "      <th>book_id</th>\n",
              "      <th>user_id</th>\n",
              "      <th>rating</th>\n",
              "    </tr>\n",
              "  </thead>\n",
              "  <tbody>\n",
              "    <tr>\n",
              "      <th>0</th>\n",
              "      <td>1</td>\n",
              "      <td>314</td>\n",
              "      <td>5</td>\n",
              "    </tr>\n",
              "    <tr>\n",
              "      <th>1</th>\n",
              "      <td>1</td>\n",
              "      <td>439</td>\n",
              "      <td>3</td>\n",
              "    </tr>\n",
              "    <tr>\n",
              "      <th>2</th>\n",
              "      <td>1</td>\n",
              "      <td>588</td>\n",
              "      <td>5</td>\n",
              "    </tr>\n",
              "    <tr>\n",
              "      <th>3</th>\n",
              "      <td>1</td>\n",
              "      <td>1169</td>\n",
              "      <td>4</td>\n",
              "    </tr>\n",
              "    <tr>\n",
              "      <th>4</th>\n",
              "      <td>1</td>\n",
              "      <td>1185</td>\n",
              "      <td>4</td>\n",
              "    </tr>\n",
              "  </tbody>\n",
              "</table>\n",
              "</div>\n",
              "      <button class=\"colab-df-convert\" onclick=\"convertToInteractive('df-b899f074-0dfe-47f5-92e8-98fe94baaf0e')\"\n",
              "              title=\"Convert this dataframe to an interactive table.\"\n",
              "              style=\"display:none;\">\n",
              "        \n",
              "  <svg xmlns=\"http://www.w3.org/2000/svg\" height=\"24px\"viewBox=\"0 0 24 24\"\n",
              "       width=\"24px\">\n",
              "    <path d=\"M0 0h24v24H0V0z\" fill=\"none\"/>\n",
              "    <path d=\"M18.56 5.44l.94 2.06.94-2.06 2.06-.94-2.06-.94-.94-2.06-.94 2.06-2.06.94zm-11 1L8.5 8.5l.94-2.06 2.06-.94-2.06-.94L8.5 2.5l-.94 2.06-2.06.94zm10 10l.94 2.06.94-2.06 2.06-.94-2.06-.94-.94-2.06-.94 2.06-2.06.94z\"/><path d=\"M17.41 7.96l-1.37-1.37c-.4-.4-.92-.59-1.43-.59-.52 0-1.04.2-1.43.59L10.3 9.45l-7.72 7.72c-.78.78-.78 2.05 0 2.83L4 21.41c.39.39.9.59 1.41.59.51 0 1.02-.2 1.41-.59l7.78-7.78 2.81-2.81c.8-.78.8-2.07 0-2.86zM5.41 20L4 18.59l7.72-7.72 1.47 1.35L5.41 20z\"/>\n",
              "  </svg>\n",
              "      </button>\n",
              "      \n",
              "  <style>\n",
              "    .colab-df-container {\n",
              "      display:flex;\n",
              "      flex-wrap:wrap;\n",
              "      gap: 12px;\n",
              "    }\n",
              "\n",
              "    .colab-df-convert {\n",
              "      background-color: #E8F0FE;\n",
              "      border: none;\n",
              "      border-radius: 50%;\n",
              "      cursor: pointer;\n",
              "      display: none;\n",
              "      fill: #1967D2;\n",
              "      height: 32px;\n",
              "      padding: 0 0 0 0;\n",
              "      width: 32px;\n",
              "    }\n",
              "\n",
              "    .colab-df-convert:hover {\n",
              "      background-color: #E2EBFA;\n",
              "      box-shadow: 0px 1px 2px rgba(60, 64, 67, 0.3), 0px 1px 3px 1px rgba(60, 64, 67, 0.15);\n",
              "      fill: #174EA6;\n",
              "    }\n",
              "\n",
              "    [theme=dark] .colab-df-convert {\n",
              "      background-color: #3B4455;\n",
              "      fill: #D2E3FC;\n",
              "    }\n",
              "\n",
              "    [theme=dark] .colab-df-convert:hover {\n",
              "      background-color: #434B5C;\n",
              "      box-shadow: 0px 1px 3px 1px rgba(0, 0, 0, 0.15);\n",
              "      filter: drop-shadow(0px 1px 2px rgba(0, 0, 0, 0.3));\n",
              "      fill: #FFFFFF;\n",
              "    }\n",
              "  </style>\n",
              "\n",
              "      <script>\n",
              "        const buttonEl =\n",
              "          document.querySelector('#df-b899f074-0dfe-47f5-92e8-98fe94baaf0e button.colab-df-convert');\n",
              "        buttonEl.style.display =\n",
              "          google.colab.kernel.accessAllowed ? 'block' : 'none';\n",
              "\n",
              "        async function convertToInteractive(key) {\n",
              "          const element = document.querySelector('#df-b899f074-0dfe-47f5-92e8-98fe94baaf0e');\n",
              "          const dataTable =\n",
              "            await google.colab.kernel.invokeFunction('convertToInteractive',\n",
              "                                                     [key], {});\n",
              "          if (!dataTable) return;\n",
              "\n",
              "          const docLinkHtml = 'Like what you see? Visit the ' +\n",
              "            '<a target=\"_blank\" href=https://colab.research.google.com/notebooks/data_table.ipynb>data table notebook</a>'\n",
              "            + ' to learn more about interactive tables.';\n",
              "          element.innerHTML = '';\n",
              "          dataTable['output_type'] = 'display_data';\n",
              "          await google.colab.output.renderOutput(dataTable, element);\n",
              "          const docLink = document.createElement('div');\n",
              "          docLink.innerHTML = docLinkHtml;\n",
              "          element.appendChild(docLink);\n",
              "        }\n",
              "      </script>\n",
              "    </div>\n",
              "  </div>\n",
              "  "
            ]
          },
          "metadata": {},
          "execution_count": 15
        }
      ]
    },
    {
      "cell_type": "code",
      "source": [
        "raw=raw[['user_id','book_id','rating']] \n",
        "raw.columns = ['n_users','n_items','rating']\n",
        "\n",
        "\n",
        "rawTrain,rawholdout = train_test_split(raw, test_size=0.25 )"
      ],
      "metadata": {
        "id": "4K7dkhyBYlFJ"
      },
      "execution_count": 16,
      "outputs": []
    },
    {
      "cell_type": "code",
      "source": [
        "reader = surprise.Reader(rating_scale=(1,5))"
      ],
      "metadata": {
        "id": "WfxVrS1YYk9p"
      },
      "execution_count": 18,
      "outputs": []
    },
    {
      "cell_type": "code",
      "source": [
        "data = surprise.Dataset.load_from_df(rawTrain,reader)\n",
        "holdout = surprise.Dataset.load_from_df(rawholdout,reader)"
      ],
      "metadata": {
        "id": "jbSngl5wYk1Q"
      },
      "execution_count": 19,
      "outputs": []
    },
    {
      "cell_type": "code",
      "source": [
        "kSplit = surprise.model_selection.split.KFold(n_splits=12, shuffle=True)  "
      ],
      "metadata": {
        "id": "2t42exEFYkrE"
      },
      "execution_count": 20,
      "outputs": []
    },
    {
      "cell_type": "code",
      "source": [
        "rmseKNN = []\n",
        "rmseSVD = []\n",
        "rmseCoClustering = []\n",
        "rmseSlope = []\n",
        "rmsehybrid = []"
      ],
      "metadata": {
        "id": "FYivRLFhDUYW"
      },
      "execution_count": 26,
      "outputs": []
    },
    {
      "cell_type": "code",
      "source": [
        "sim_options = sim_options = {'name': 'cosine',\n",
        "               'user_based': False \n",
        "               }\n",
        "collabKNN = surprise.KNNBasic(k=40,sim_options=sim_options) \n",
        "\n",
        "for trainset, testset in kSplit.split(data):\n",
        "    collabKNN.fit(trainset)\n",
        "    predictionsKNN = collabKNN.test(testset)\n",
        "    rmseKNN.append(surprise.accuracy.rmse(predictionsKNN,verbose=True))"
      ],
      "metadata": {
        "colab": {
          "base_uri": "https://localhost:8080/"
        },
        "id": "dGsgW2SEZdgE",
        "outputId": "11e4eb76-3a46-4e3e-f3fd-3bf931c6bba4"
      },
      "execution_count": 27,
      "outputs": [
        {
          "output_type": "stream",
          "name": "stdout",
          "text": [
            "Computing the cosine similarity matrix...\n",
            "Done computing similarity matrix.\n",
            "RMSE: 0.8928\n",
            "Computing the cosine similarity matrix...\n",
            "Done computing similarity matrix.\n",
            "RMSE: 0.8953\n",
            "Computing the cosine similarity matrix...\n",
            "Done computing similarity matrix.\n",
            "RMSE: 0.9008\n",
            "Computing the cosine similarity matrix...\n",
            "Done computing similarity matrix.\n",
            "RMSE: 0.8938\n",
            "Computing the cosine similarity matrix...\n",
            "Done computing similarity matrix.\n",
            "RMSE: 0.8998\n",
            "Computing the cosine similarity matrix...\n",
            "Done computing similarity matrix.\n",
            "RMSE: 0.8970\n",
            "Computing the cosine similarity matrix...\n",
            "Done computing similarity matrix.\n",
            "RMSE: 0.8938\n",
            "Computing the cosine similarity matrix...\n",
            "Done computing similarity matrix.\n",
            "RMSE: 0.8987\n",
            "Computing the cosine similarity matrix...\n",
            "Done computing similarity matrix.\n",
            "RMSE: 0.8934\n",
            "Computing the cosine similarity matrix...\n",
            "Done computing similarity matrix.\n",
            "RMSE: 0.8930\n",
            "Computing the cosine similarity matrix...\n",
            "Done computing similarity matrix.\n",
            "RMSE: 0.8992\n",
            "Computing the cosine similarity matrix...\n",
            "Done computing similarity matrix.\n",
            "RMSE: 0.8967\n"
          ]
        }
      ]
    },
    {
      "cell_type": "markdown",
      "source": [
        "Second Algorithm"
      ],
      "metadata": {
        "id": "5tJrIhDgaa0j"
      }
    },
    {
      "cell_type": "code",
      "source": [
        "SVD = surprise.prediction_algorithms.matrix_factorization.SVD(n_factors=30,n_epochs=10,biased=True)\n",
        "min_error = 1\n",
        "for trainset, testset in kSplit.split(data): \n",
        "    SVD.fit(trainset)\n",
        "    predictionsSVD = SVD.test(testset)\n",
        "    rmseSVD.append(surprise.accuracy.rmse(predictionsSVD,verbose=True))"
      ],
      "metadata": {
        "colab": {
          "base_uri": "https://localhost:8080/"
        },
        "id": "2-HbOo6YajsW",
        "outputId": "c789bcd1-5154-4e82-e740-aafaa98c4a40"
      },
      "execution_count": 28,
      "outputs": [
        {
          "output_type": "stream",
          "name": "stdout",
          "text": [
            "RMSE: 0.8496\n",
            "RMSE: 0.8531\n",
            "RMSE: 0.8518\n",
            "RMSE: 0.8497\n",
            "RMSE: 0.8502\n",
            "RMSE: 0.8493\n",
            "RMSE: 0.8485\n",
            "RMSE: 0.8532\n",
            "RMSE: 0.8464\n",
            "RMSE: 0.8491\n",
            "RMSE: 0.8569\n",
            "RMSE: 0.8485\n"
          ]
        }
      ]
    },
    {
      "cell_type": "markdown",
      "source": [
        "Third Algorithm"
      ],
      "metadata": {
        "id": "ic9Vyn_8bPM0"
      }
    },
    {
      "cell_type": "code",
      "source": [
        "CoClustering = surprise.prediction_algorithms.co_clustering.CoClustering(n_cltr_u=4,n_cltr_i=4,n_epochs=25) \n",
        "for trainset, testset in kSplit.split(data): \n",
        "    CoClustering.fit(trainset)\n",
        "    predictionsCoClustering = CoClustering.test(testset)\n",
        "    rmseCoClustering.append(surprise.accuracy.rmse(predictionsCoClustering,verbose=True))"
      ],
      "metadata": {
        "colab": {
          "base_uri": "https://localhost:8080/"
        },
        "id": "uvoK3f1hbO04",
        "outputId": "2ad1d9e3-c837-4f9a-ba0e-fd9ba552e4a3"
      },
      "execution_count": 29,
      "outputs": [
        {
          "output_type": "stream",
          "name": "stderr",
          "text": [
            "/usr/local/lib/python3.7/dist-packages/ipykernel_launcher.py:3: DeprecationWarning: `np.int` is a deprecated alias for the builtin `int`. To silence this warning, use `int` by itself. Doing this will not modify any behavior and is safe. When replacing `np.int`, you may wish to use e.g. `np.int64` or `np.int32` to specify the precision. If you wish to review your current use, check the release note link for additional information.\n",
            "Deprecated in NumPy 1.20; for more details and guidance: https://numpy.org/devdocs/release/1.20.0-notes.html#deprecations\n",
            "  This is separate from the ipykernel package so we can avoid doing imports until\n"
          ]
        },
        {
          "output_type": "stream",
          "name": "stdout",
          "text": [
            "RMSE: 0.8811\n",
            "RMSE: 0.8871\n",
            "RMSE: 0.8873\n",
            "RMSE: 0.8851\n",
            "RMSE: 0.8800\n",
            "RMSE: 0.8925\n",
            "RMSE: 0.8794\n",
            "RMSE: 0.8809\n",
            "RMSE: 0.8872\n",
            "RMSE: 0.8885\n",
            "RMSE: 0.8797\n",
            "RMSE: 0.8879\n"
          ]
        }
      ]
    },
    {
      "cell_type": "markdown",
      "source": [
        "Fourth Algorithm"
      ],
      "metadata": {
        "id": "H8jg13AQdGGP"
      }
    },
    {
      "cell_type": "code",
      "source": [
        "slopeOne = surprise.prediction_algorithms.slope_one.SlopeOne()\n",
        "for trainset, testset in kSplit.split(data):\n",
        "    slopeOne.fit(trainset)\n",
        "    predictionsSlope = slopeOne.test(testset)\n",
        "    rmseSlope.append(surprise.accuracy.rmse(predictionsSlope,verbose=True))\n",
        "\n"
      ],
      "metadata": {
        "colab": {
          "base_uri": "https://localhost:8080/"
        },
        "id": "5xingJBkdPfJ",
        "outputId": "0fb4f724-9b8d-4acb-8dde-0d0395b4e206"
      },
      "execution_count": 30,
      "outputs": [
        {
          "output_type": "stream",
          "name": "stderr",
          "text": [
            "/usr/local/lib/python3.7/dist-packages/ipykernel_launcher.py:3: DeprecationWarning: `np.int` is a deprecated alias for the builtin `int`. To silence this warning, use `int` by itself. Doing this will not modify any behavior and is safe. When replacing `np.int`, you may wish to use e.g. `np.int64` or `np.int32` to specify the precision. If you wish to review your current use, check the release note link for additional information.\n",
            "Deprecated in NumPy 1.20; for more details and guidance: https://numpy.org/devdocs/release/1.20.0-notes.html#deprecations\n",
            "  This is separate from the ipykernel package so we can avoid doing imports until\n"
          ]
        },
        {
          "output_type": "stream",
          "name": "stdout",
          "text": [
            "RMSE: 0.9201\n",
            "RMSE: 0.9256\n",
            "RMSE: 0.9230\n",
            "RMSE: 0.9258\n",
            "RMSE: 0.9229\n",
            "RMSE: 0.9220\n",
            "RMSE: 0.9196\n",
            "RMSE: 0.9148\n",
            "RMSE: 0.9209\n",
            "RMSE: 0.9225\n",
            "RMSE: 0.9189\n",
            "RMSE: 0.9223\n"
          ]
        }
      ]
    },
    {
      "cell_type": "code",
      "source": [
        "# Line Graph "
      ],
      "metadata": {
        "id": "_7mj8NQakT2s"
      },
      "execution_count": null,
      "outputs": []
    },
    {
      "cell_type": "code",
      "source": [
        "\n",
        "import matplotlib.pyplot as plt\n",
        "modelPrediction = plt.plot(rmseKNN,label='KNN')\n",
        "modelPrediction = plt.plot(rmseSVD,label='SVD')\n",
        "modelPrediction = plt.plot(rmseCoClustering,label='CoClustering')\n",
        "modelPrediction = plt.plot(rmseSlope,label='slope')\n",
        "modelPrediction = plt.xlabel('folds')\n",
        "modelPrediction = plt.ylabel('accuracy')\n",
        "plt.legend(bbox_to_anchor=(1.05, 1), loc=2, borderaxespad=0.)"
      ],
      "metadata": {
        "colab": {
          "base_uri": "https://localhost:8080/",
          "height": 296
        },
        "id": "W2vFaxgkd2AM",
        "outputId": "2c7b421d-347b-48fe-a29f-8cafaab5457f"
      },
      "execution_count": 31,
      "outputs": [
        {
          "output_type": "execute_result",
          "data": {
            "text/plain": [
              "<matplotlib.legend.Legend at 0x7f9758ad3150>"
            ]
          },
          "metadata": {},
          "execution_count": 31
        },
        {
          "output_type": "display_data",
          "data": {
            "text/plain": [
              "<Figure size 432x288 with 1 Axes>"
            ],
            "image/png": "[encoded data removed]"
          },
          "metadata": {
            "needs_background": "light"
          }
        }
      ]
    },
    {
      "cell_type": "code",
      "source": [
        "# Hybrid Recommender"
      ],
      "metadata": {
        "id": "cHaF-5qVkOTw"
      },
      "execution_count": null,
      "outputs": []
    },
    {
      "cell_type": "code",
      "source": [
        "\n",
        "from surprise import AlgoBase\n",
        "\n",
        "\n",
        "class HybridAlgorithm(AlgoBase):\n",
        "\n",
        "   \n",
        "    def __init__(self, epochs, learning_rate, num_models):  #\n",
        "        AlgoBase.__init__(self)\n",
        "        self.alpha = np.array([1/len(str(num_models))]*len(str(num_models)))\n",
        "        self.epochs = epochs\n",
        "        self.learning_rate = learning_rate\n",
        "    \n",
        "    def fit(self,holdout):\n",
        "       \n",
        "        holdout=holdout.build_full_trainset().build_testset()\n",
        "               \n",
        "        for epoch in range(self.epochs):\n",
        "       \n",
        "            predictions = ([collabKNN.test(holdout),SVD.test(holdout),CoClustering.test(holdout),slopeOne.test(holdout)])\n",
        "\n",
        "          \n",
        "            rmsehybrid = [surprise.accuracy.rmse(prediction) for prediction in predictions]\n",
        "          \n",
        "\n",
        "              \n",
        "    def estimate(self,u,i):\n",
        "        \n",
        "         if not (self.trainset.knows_user(u) and self.trainset.knows_item(i)):\n",
        "           \n",
        "            raise PredictionImpossible('User and/or item is unkown.')\n",
        "           \n",
        "         algoResults = np.array([collabKNN.predict(u,i),SVD.predict(u,i),CoClustering.predict(u,i),slopeOne.predict(u,i)])\n",
        "\n",
        "         return np.sum(np.dot(self.alpha,algoResults))\n",
        "\n"
      ],
      "metadata": {
        "id": "ghpPp9eQeamW"
      },
      "execution_count": 45,
      "outputs": []
    },
    {
      "cell_type": "code",
      "source": [
        "hybrid = HybridAlgorithm(epochs=10, learning_rate=0.05, num_models=4)\n",
        "for trainset, testset in kSplit.split(data):\n",
        "    hybrid.fit(data)\n",
        "    hybridprediction = hybrid.test(testset)\n",
        "    rmsehybrid.append(surprise.accuracy.rmse(hybridprediction, verbose=True))"
      ],
      "metadata": {
        "colab": {
          "base_uri": "https://localhost:8080/"
        },
        "id": "PMKro6fqeif9",
        "outputId": "fb84c1fb-57f9-496b-ad12-94c5c8add630"
      },
      "execution_count": 48,
      "outputs": [
        {
          "output_type": "stream",
          "name": "stdout",
          "text": [
            "RMSE: 0.7994\n",
            "RMSE: 0.7964\n",
            "RMSE: 0.7612\n",
            "RMSE: 0.4045\n",
            "RMSE: 0.7994\n",
            "RMSE: 0.7964\n",
            "RMSE: 0.7612\n",
            "RMSE: 0.4045\n",
            "RMSE: 0.7994\n",
            "RMSE: 0.7964\n",
            "RMSE: 0.7612\n",
            "RMSE: 0.4045\n",
            "RMSE: 0.7994\n",
            "RMSE: 0.7964\n",
            "RMSE: 0.7612\n",
            "RMSE: 0.4045\n",
            "RMSE: 0.7994\n",
            "RMSE: 0.7964\n",
            "RMSE: 0.7612\n",
            "RMSE: 0.4045\n",
            "RMSE: 0.7994\n",
            "RMSE: 0.7964\n",
            "RMSE: 0.7612\n",
            "RMSE: 0.4045\n",
            "RMSE: 0.7994\n",
            "RMSE: 0.7964\n",
            "RMSE: 0.7612\n",
            "RMSE: 0.4045\n",
            "RMSE: 0.7994\n",
            "RMSE: 0.7964\n",
            "RMSE: 0.7612\n",
            "RMSE: 0.4045\n",
            "RMSE: 0.7994\n",
            "RMSE: 0.7964\n",
            "RMSE: 0.7612\n",
            "RMSE: 0.4045\n",
            "RMSE: 0.7994\n",
            "RMSE: 0.7964\n",
            "RMSE: 0.7612\n",
            "RMSE: 0.4045\n",
            "RMSE: 0.7994\n",
            "RMSE: 0.7964\n",
            "RMSE: 0.7612\n",
            "RMSE: 0.4045\n",
            "RMSE: 0.7994\n",
            "RMSE: 0.7964\n",
            "RMSE: 0.7612\n",
            "RMSE: 0.4045\n",
            "RMSE: 0.7994\n",
            "RMSE: 0.7964\n",
            "RMSE: 0.7612\n",
            "RMSE: 0.4045\n",
            "RMSE: 0.7994\n",
            "RMSE: 0.7964\n",
            "RMSE: 0.7612\n",
            "RMSE: 0.4045\n",
            "RMSE: 0.7994\n",
            "RMSE: 0.7964\n",
            "RMSE: 0.7612\n",
            "RMSE: 0.4045\n",
            "RMSE: 0.7994\n",
            "RMSE: 0.7964\n",
            "RMSE: 0.7612\n",
            "RMSE: 0.4045\n",
            "RMSE: 0.7994\n",
            "RMSE: 0.7964\n",
            "RMSE: 0.7612\n",
            "RMSE: 0.4045\n",
            "RMSE: 0.7994\n",
            "RMSE: 0.7964\n",
            "RMSE: 0.7612\n",
            "RMSE: 0.4045\n",
            "RMSE: 0.7994\n",
            "RMSE: 0.7964\n",
            "RMSE: 0.7612\n",
            "RMSE: 0.4045\n",
            "RMSE: 0.7994\n",
            "RMSE: 0.7964\n",
            "RMSE: 0.7612\n",
            "RMSE: 0.4045\n",
            "RMSE: 0.7994\n",
            "RMSE: 0.7964\n",
            "RMSE: 0.7612\n",
            "RMSE: 0.4045\n",
            "RMSE: 0.7994\n",
            "RMSE: 0.7964\n",
            "RMSE: 0.7612\n",
            "RMSE: 0.4045\n",
            "RMSE: 0.7994\n",
            "RMSE: 0.7964\n",
            "RMSE: 0.7612\n",
            "RMSE: 0.4045\n",
            "RMSE: 0.7994\n",
            "RMSE: 0.7964\n",
            "RMSE: 0.7612\n",
            "RMSE: 0.4045\n",
            "RMSE: 0.7994\n",
            "RMSE: 0.7964\n",
            "RMSE: 0.7612\n",
            "RMSE: 0.4045\n",
            "RMSE: 0.7994\n",
            "RMSE: 0.7964\n",
            "RMSE: 0.7612\n",
            "RMSE: 0.4045\n",
            "RMSE: 0.7994\n",
            "RMSE: 0.7964\n",
            "RMSE: 0.7612\n",
            "RMSE: 0.4045\n",
            "RMSE: 0.7994\n",
            "RMSE: 0.7964\n",
            "RMSE: 0.7612\n",
            "RMSE: 0.4045\n",
            "RMSE: 0.7994\n",
            "RMSE: 0.7964\n",
            "RMSE: 0.7612\n",
            "RMSE: 0.4045\n",
            "RMSE: 0.7994\n",
            "RMSE: 0.7964\n",
            "RMSE: 0.7612\n",
            "RMSE: 0.4045\n",
            "RMSE: 0.7994\n",
            "RMSE: 0.7964\n",
            "RMSE: 0.7612\n",
            "RMSE: 0.4045\n",
            "RMSE: 0.7994\n",
            "RMSE: 0.7964\n",
            "RMSE: 0.7612\n",
            "RMSE: 0.4045\n",
            "RMSE: 0.7994\n",
            "RMSE: 0.7964\n",
            "RMSE: 0.7612\n",
            "RMSE: 0.4045\n",
            "RMSE: 0.7994\n",
            "RMSE: 0.7964\n",
            "RMSE: 0.7612\n",
            "RMSE: 0.4045\n",
            "RMSE: 0.7994\n",
            "RMSE: 0.7964\n",
            "RMSE: 0.7612\n",
            "RMSE: 0.4045\n",
            "RMSE: 0.7994\n",
            "RMSE: 0.7964\n",
            "RMSE: 0.7612\n",
            "RMSE: 0.4045\n",
            "RMSE: 0.7994\n",
            "RMSE: 0.7964\n",
            "RMSE: 0.7612\n",
            "RMSE: 0.4045\n",
            "RMSE: 0.7994\n",
            "RMSE: 0.7964\n",
            "RMSE: 0.7612\n",
            "RMSE: 0.4045\n",
            "RMSE: 0.7994\n",
            "RMSE: 0.7964\n",
            "RMSE: 0.7612\n",
            "RMSE: 0.4045\n",
            "RMSE: 0.7994\n",
            "RMSE: 0.7964\n",
            "RMSE: 0.7612\n",
            "RMSE: 0.4045\n",
            "RMSE: 0.7994\n",
            "RMSE: 0.7964\n",
            "RMSE: 0.7612\n",
            "RMSE: 0.4045\n",
            "RMSE: 0.7994\n",
            "RMSE: 0.7964\n",
            "RMSE: 0.7612\n",
            "RMSE: 0.4045\n",
            "RMSE: 0.7994\n",
            "RMSE: 0.7964\n",
            "RMSE: 0.7612\n",
            "RMSE: 0.4045\n",
            "RMSE: 0.7994\n",
            "RMSE: 0.7964\n",
            "RMSE: 0.7612\n",
            "RMSE: 0.4045\n",
            "RMSE: 0.7994\n",
            "RMSE: 0.7964\n",
            "RMSE: 0.7612\n",
            "RMSE: 0.4045\n",
            "RMSE: 0.7994\n",
            "RMSE: 0.7964\n",
            "RMSE: 0.7612\n",
            "RMSE: 0.4045\n",
            "RMSE: 0.7994\n",
            "RMSE: 0.7964\n",
            "RMSE: 0.7612\n",
            "RMSE: 0.4045\n",
            "RMSE: 0.7994\n",
            "RMSE: 0.7964\n",
            "RMSE: 0.7612\n",
            "RMSE: 0.4045\n",
            "RMSE: 0.7994\n",
            "RMSE: 0.7964\n",
            "RMSE: 0.7612\n",
            "RMSE: 0.4045\n",
            "RMSE: 0.7994\n",
            "RMSE: 0.7964\n",
            "RMSE: 0.7612\n",
            "RMSE: 0.4045\n",
            "RMSE: 0.7994\n",
            "RMSE: 0.7964\n",
            "RMSE: 0.7612\n",
            "RMSE: 0.4045\n",
            "RMSE: 0.7994\n",
            "RMSE: 0.7964\n",
            "RMSE: 0.7612\n",
            "RMSE: 0.4045\n",
            "RMSE: 0.7994\n",
            "RMSE: 0.7964\n",
            "RMSE: 0.7612\n",
            "RMSE: 0.4045\n",
            "RMSE: 0.7994\n",
            "RMSE: 0.7964\n",
            "RMSE: 0.7612\n",
            "RMSE: 0.4045\n",
            "RMSE: 0.7994\n",
            "RMSE: 0.7964\n",
            "RMSE: 0.7612\n",
            "RMSE: 0.4045\n",
            "RMSE: 0.7994\n",
            "RMSE: 0.7964\n",
            "RMSE: 0.7612\n",
            "RMSE: 0.4045\n",
            "RMSE: 0.7994\n",
            "RMSE: 0.7964\n",
            "RMSE: 0.7612\n",
            "RMSE: 0.4045\n",
            "RMSE: 0.7994\n",
            "RMSE: 0.7964\n",
            "RMSE: 0.7612\n",
            "RMSE: 0.4045\n",
            "RMSE: 0.7994\n",
            "RMSE: 0.7964\n",
            "RMSE: 0.7612\n",
            "RMSE: 0.4045\n",
            "RMSE: 0.7994\n",
            "RMSE: 0.7964\n",
            "RMSE: 0.7612\n",
            "RMSE: 0.4045\n",
            "RMSE: 0.7994\n",
            "RMSE: 0.7964\n",
            "RMSE: 0.7612\n",
            "RMSE: 0.4045\n",
            "RMSE: 0.7994\n",
            "RMSE: 0.7964\n",
            "RMSE: 0.7612\n",
            "RMSE: 0.4045\n",
            "RMSE: 0.7994\n",
            "RMSE: 0.7964\n",
            "RMSE: 0.7612\n",
            "RMSE: 0.4045\n",
            "RMSE: 0.7994\n",
            "RMSE: 0.7964\n",
            "RMSE: 0.7612\n",
            "RMSE: 0.4045\n",
            "RMSE: 0.7994\n",
            "RMSE: 0.7964\n",
            "RMSE: 0.7612\n",
            "RMSE: 0.4045\n",
            "RMSE: 0.7994\n",
            "RMSE: 0.7964\n",
            "RMSE: 0.7612\n",
            "RMSE: 0.4045\n",
            "RMSE: 0.7994\n",
            "RMSE: 0.7964\n",
            "RMSE: 0.7612\n",
            "RMSE: 0.4045\n",
            "RMSE: 0.7994\n",
            "RMSE: 0.7964\n",
            "RMSE: 0.7612\n",
            "RMSE: 0.4045\n",
            "RMSE: 0.7994\n",
            "RMSE: 0.7964\n",
            "RMSE: 0.7612\n",
            "RMSE: 0.4045\n",
            "RMSE: 0.7994\n",
            "RMSE: 0.7964\n",
            "RMSE: 0.7612\n",
            "RMSE: 0.4045\n",
            "RMSE: 0.7994\n",
            "RMSE: 0.7964\n",
            "RMSE: 0.7612\n",
            "RMSE: 0.4045\n",
            "RMSE: 0.7994\n",
            "RMSE: 0.7964\n",
            "RMSE: 0.7612\n",
            "RMSE: 0.4045\n",
            "RMSE: 0.7994\n",
            "RMSE: 0.7964\n",
            "RMSE: 0.7612\n",
            "RMSE: 0.4045\n",
            "RMSE: 0.7994\n",
            "RMSE: 0.7964\n",
            "RMSE: 0.7612\n",
            "RMSE: 0.4045\n",
            "RMSE: 0.7994\n",
            "RMSE: 0.7964\n",
            "RMSE: 0.7612\n",
            "RMSE: 0.4045\n",
            "RMSE: 0.7994\n",
            "RMSE: 0.7964\n",
            "RMSE: 0.7612\n",
            "RMSE: 0.4045\n",
            "RMSE: 0.7994\n",
            "RMSE: 0.7964\n",
            "RMSE: 0.7612\n",
            "RMSE: 0.4045\n",
            "RMSE: 0.7994\n",
            "RMSE: 0.7964\n",
            "RMSE: 0.7612\n",
            "RMSE: 0.4045\n",
            "RMSE: 0.7994\n",
            "RMSE: 0.7964\n",
            "RMSE: 0.7612\n",
            "RMSE: 0.4045\n",
            "RMSE: 0.7994\n",
            "RMSE: 0.7964\n",
            "RMSE: 0.7612\n",
            "RMSE: 0.4045\n",
            "RMSE: 0.7994\n",
            "RMSE: 0.7964\n",
            "RMSE: 0.7612\n",
            "RMSE: 0.4045\n",
            "RMSE: 0.7994\n",
            "RMSE: 0.7964\n",
            "RMSE: 0.7612\n",
            "RMSE: 0.4045\n",
            "RMSE: 0.7994\n",
            "RMSE: 0.7964\n",
            "RMSE: 0.7612\n",
            "RMSE: 0.4045\n",
            "RMSE: 0.7994\n",
            "RMSE: 0.7964\n",
            "RMSE: 0.7612\n",
            "RMSE: 0.4045\n",
            "RMSE: 0.7994\n",
            "RMSE: 0.7964\n",
            "RMSE: 0.7612\n",
            "RMSE: 0.4045\n",
            "RMSE: 0.7994\n",
            "RMSE: 0.7964\n",
            "RMSE: 0.7612\n",
            "RMSE: 0.4045\n",
            "RMSE: 0.7994\n",
            "RMSE: 0.7964\n",
            "RMSE: 0.7612\n",
            "RMSE: 0.4045\n",
            "RMSE: 0.7994\n",
            "RMSE: 0.7964\n",
            "RMSE: 0.7612\n",
            "RMSE: 0.4045\n",
            "RMSE: 0.7994\n",
            "RMSE: 0.7964\n",
            "RMSE: 0.7612\n",
            "RMSE: 0.4045\n",
            "RMSE: 0.7994\n",
            "RMSE: 0.7964\n",
            "RMSE: 0.7612\n",
            "RMSE: 0.4045\n",
            "RMSE: 0.7994\n",
            "RMSE: 0.7964\n",
            "RMSE: 0.7612\n",
            "RMSE: 0.4045\n",
            "RMSE: 0.7994\n",
            "RMSE: 0.7964\n",
            "RMSE: 0.7612\n",
            "RMSE: 0.4045\n",
            "RMSE: 0.7994\n",
            "RMSE: 0.7964\n",
            "RMSE: 0.7612\n",
            "RMSE: 0.4045\n",
            "RMSE: 0.7994\n",
            "RMSE: 0.7964\n",
            "RMSE: 0.7612\n",
            "RMSE: 0.4045\n",
            "RMSE: 0.7994\n",
            "RMSE: 0.7964\n",
            "RMSE: 0.7612\n",
            "RMSE: 0.4045\n",
            "RMSE: 0.7994\n",
            "RMSE: 0.7964\n",
            "RMSE: 0.7612\n",
            "RMSE: 0.4045\n",
            "RMSE: 0.7994\n",
            "RMSE: 0.7964\n",
            "RMSE: 0.7612\n",
            "RMSE: 0.4045\n",
            "RMSE: 0.7994\n",
            "RMSE: 0.7964\n",
            "RMSE: 0.7612\n",
            "RMSE: 0.4045\n",
            "RMSE: 0.7994\n",
            "RMSE: 0.7964\n",
            "RMSE: 0.7612\n",
            "RMSE: 0.4045\n",
            "RMSE: 0.7994\n",
            "RMSE: 0.7964\n",
            "RMSE: 0.7612\n",
            "RMSE: 0.4045\n",
            "RMSE: 0.7994\n",
            "RMSE: 0.7964\n",
            "RMSE: 0.7612\n",
            "RMSE: 0.4045\n",
            "RMSE: 0.7994\n",
            "RMSE: 0.7964\n",
            "RMSE: 0.7612\n",
            "RMSE: 0.4045\n",
            "RMSE: 0.7994\n",
            "RMSE: 0.7964\n",
            "RMSE: 0.7612\n",
            "RMSE: 0.4045\n",
            "RMSE: 0.7994\n",
            "RMSE: 0.7964\n",
            "RMSE: 0.7612\n",
            "RMSE: 0.4045\n",
            "RMSE: 0.7994\n",
            "RMSE: 0.7964\n",
            "RMSE: 0.7612\n",
            "RMSE: 0.4045\n",
            "RMSE: 0.7994\n",
            "RMSE: 0.7964\n",
            "RMSE: 0.7612\n",
            "RMSE: 0.4045\n",
            "RMSE: 0.7994\n",
            "RMSE: 0.7964\n",
            "RMSE: 0.7612\n",
            "RMSE: 0.4045\n",
            "RMSE: 0.7994\n",
            "RMSE: 0.7964\n",
            "RMSE: 0.7612\n",
            "RMSE: 0.4045\n",
            "RMSE: 0.7994\n",
            "RMSE: 0.7964\n",
            "RMSE: 0.7612\n",
            "RMSE: 0.4045\n",
            "RMSE: 0.7994\n",
            "RMSE: 0.7964\n",
            "RMSE: 0.7612\n",
            "RMSE: 0.4045\n",
            "RMSE: 0.7994\n",
            "RMSE: 0.7964\n",
            "RMSE: 0.7612\n",
            "RMSE: 0.4045\n",
            "RMSE: 0.7994\n",
            "RMSE: 0.7964\n",
            "RMSE: 0.7612\n",
            "RMSE: 0.4045\n",
            "RMSE: 0.7994\n",
            "RMSE: 0.7964\n",
            "RMSE: 0.7612\n",
            "RMSE: 0.4045\n",
            "RMSE: 0.7994\n",
            "RMSE: 0.7964\n",
            "RMSE: 0.7612\n",
            "RMSE: 0.4045\n",
            "RMSE: 0.7994\n",
            "RMSE: 0.7964\n",
            "RMSE: 0.7612\n",
            "RMSE: 0.4045\n",
            "RMSE: 0.7994\n",
            "RMSE: 0.7964\n",
            "RMSE: 0.7612\n",
            "RMSE: 0.4045\n",
            "RMSE: 0.7994\n",
            "RMSE: 0.7964\n",
            "RMSE: 0.7612\n",
            "RMSE: 0.4045\n",
            "RMSE: 0.7994\n",
            "RMSE: 0.7964\n",
            "RMSE: 0.7612\n",
            "RMSE: 0.4045\n",
            "RMSE: 0.7994\n",
            "RMSE: 0.7964\n",
            "RMSE: 0.7612\n",
            "RMSE: 0.4045\n",
            "RMSE: 0.7994\n",
            "RMSE: 0.7964\n",
            "RMSE: 0.7612\n",
            "RMSE: 0.4045\n"
          ]
        }
      ]
    },
    {
      "cell_type": "code",
      "source": [
        ""
      ],
      "metadata": {
        "id": "-D9dyreingB1"
      },
      "execution_count": null,
      "outputs": []
    },
    {
      "cell_type": "code",
      "source": [
        "# Github Link"
      ],
      "metadata": {
        "id": "C9ZMKDOe78VB"
      },
      "execution_count": null,
      "outputs": []
    },
    {
      "cell_type": "markdown",
      "source": [
        "https://github.com/Jonatala/Recommender-Systems/blob/main/Hybrid_Recommender_System_Surprise_Library.ipynb"
      ],
      "metadata": {
        "id": "m1nwtchInx7Z"
      }
    },
    {
      "cell_type": "code",
      "source": [
        ""
      ],
      "metadata": {
        "id": "jB8tsvjt78K4"
      },
      "execution_count": null,
      "outputs": []
    },
    {
      "cell_type": "code",
      "source": [
        ""
      ],
      "metadata": {
        "id": "5aAHj-FA776E"
      },
      "execution_count": null,
      "outputs": []
    }
  ]
}